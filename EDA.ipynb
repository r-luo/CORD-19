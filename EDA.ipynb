{
 "cells": [
  {
   "cell_type": "markdown",
   "metadata": {},
   "source": [
    "# Notes"
   ]
  },
  {
   "cell_type": "markdown",
   "metadata": {},
   "source": [
    "- body text might not be complete\n",
    "- bibref might not be complete\n",
    "- author name parsing for bibref might be wrong (mixing first/last names)\n",
    "\n",
    "e.g. Clinical and Immunologic Studies in Identical Twins Discordant for Systemic Lupus Erythematosus\n",
    "- body text on the references page is truncated\n",
    "- bibref only contained 12/25 entries\n",
    "- author names for bibrefs parsed incorrectly"
   ]
  },
  {
   "cell_type": "code",
   "execution_count": 2,
   "metadata": {
    "ExecuteTime": {
     "end_time": "2020-04-06T04:15:37.643757Z",
     "start_time": "2020-04-06T04:15:37.618708Z"
    }
   },
   "outputs": [],
   "source": [
    "%load_ext autoreload\n",
    "%autoreload 2"
   ]
  },
  {
   "cell_type": "code",
   "execution_count": 109,
   "metadata": {
    "ExecuteTime": {
     "end_time": "2020-04-06T20:09:57.774216Z",
     "start_time": "2020-04-06T20:09:57.744167Z"
    }
   },
   "outputs": [],
   "source": [
    "import json\n",
    "import pandas as pd\n",
    "from pathlib import Path\n",
    "from glom import glom\n",
    "from gensim import corpora, models\n",
    "from gensim.parsing import preprocessing as pp\n",
    "from gensim.models.phrases import Phrases, Phraser\n",
    "\n",
    "import sys\n",
    "import traceback\n",
    "import logging\n",
    "from multiprocessing import cpu_count, Pool\n",
    "import yaml\n",
    "\n",
    "LOG = logging.getLogger()\n",
    "logging.basicConfig()\n",
    "\n",
    "CPU_COUNT = cpu_count()"
   ]
  },
  {
   "cell_type": "code",
   "execution_count": 56,
   "metadata": {
    "ExecuteTime": {
     "end_time": "2020-04-06T05:10:04.566228Z",
     "start_time": "2020-04-06T05:10:04.540418Z"
    }
   },
   "outputs": [],
   "source": [
    "def log_traceback():\n",
    "    # Get current system exception\n",
    "    ex_type, ex_value, ex_traceback = sys.exc_info()\n",
    "\n",
    "    # Extract unformatter stack traces as tuples\n",
    "    trace_back = traceback.extract_tb(ex_traceback)\n",
    "\n",
    "    # Format stacktrace\n",
    "    stack_trace = list()\n",
    "\n",
    "    for trace in trace_back:\n",
    "        stack_trace.append(\n",
    "            \"File : %s , Line : %d, Func.Name : %s, Message : %s\" % (\n",
    "                trace[0], trace[1], trace[2], trace[3]))\n",
    "\n",
    "    LOG.error(f\"Exception type : {ex_type.__name__}\")\n",
    "    LOG.error(f\"Exception message : {ex_value}\")\n",
    "    LOG.error(f\"Stack trace : {stack_trace}\")\n",
    "\n",
    "\n",
    "def mprun(mp_func, inputs, n_workers=CPU_COUNT, ):\n",
    "    pool = Pool(n_workers)\n",
    "\n",
    "    results = []\n",
    "    try:\n",
    "        results = pool.map(mp_func, inputs)\n",
    "    except:\n",
    "        log_traceback()\n",
    "    finally:\n",
    "        pool.close()\n",
    "        pool.join()\n",
    "\n",
    "    return results\n"
   ]
  },
  {
   "cell_type": "code",
   "execution_count": 10,
   "metadata": {
    "ExecuteTime": {
     "end_time": "2020-04-06T04:21:58.374961Z",
     "start_time": "2020-04-06T04:21:58.352925Z"
    }
   },
   "outputs": [],
   "source": [
    "datapath = Path('data/')"
   ]
  },
  {
   "cell_type": "code",
   "execution_count": 74,
   "metadata": {
    "ExecuteTime": {
     "end_time": "2020-04-06T05:18:35.446507Z",
     "start_time": "2020-04-06T05:18:34.749944Z"
    }
   },
   "outputs": [],
   "source": [
    "metadata = pd.read_csv(datapath.joinpath('metadata.csv'), low_memory=False)"
   ]
  },
  {
   "cell_type": "code",
   "execution_count": 79,
   "metadata": {
    "ExecuteTime": {
     "end_time": "2020-04-06T05:19:10.431800Z",
     "start_time": "2020-04-06T05:19:10.408470Z"
    }
   },
   "outputs": [],
   "source": [
    "def gen_pdf_json_path(x):\n",
    "    sha = x['sha']\n",
    "    if pd.isnull(sha):\n",
    "        return []\n",
    "    return [datapath.joinpath(\n",
    "        f\"{x['full_text_file']}/{x['full_text_file']}/pdf_json/{sha_item.strip()}.json\"\n",
    "    ) for sha_item in sha.split(';')]\n",
    "\n",
    "def gen_pmc_json_path(x):\n",
    "    pmcid = x['pmcid']\n",
    "    if pd.isnull(pmcid):\n",
    "        return []\n",
    "    return [datapath.joinpath(\n",
    "        f\"{x['full_text_file']}/{x['full_text_file']}/pmc_json/{pmcid_item.strip()}.xml.json\"\n",
    "    ) for pmcid_item in pmcid.split(';')]"
   ]
  },
  {
   "cell_type": "code",
   "execution_count": 80,
   "metadata": {
    "ExecuteTime": {
     "end_time": "2020-04-06T05:19:14.508862Z",
     "start_time": "2020-04-06T05:19:11.330201Z"
    }
   },
   "outputs": [],
   "source": [
    "metadata.loc[:, 'pdf_json_paths'] = metadata.apply(gen_pdf_json_path, axis=1)\n",
    "metadata.loc[:, 'pmc_json_paths'] = metadata.apply(gen_pmc_json_path, axis=1)"
   ]
  },
  {
   "cell_type": "code",
   "execution_count": 81,
   "metadata": {
    "ExecuteTime": {
     "end_time": "2020-04-06T05:19:17.528777Z",
     "start_time": "2020-04-06T05:19:17.474635Z"
    },
    "scrolled": true
   },
   "outputs": [
    {
     "data": {
      "text/html": [
       "<div>\n",
       "<style scoped>\n",
       "    .dataframe tbody tr th:only-of-type {\n",
       "        vertical-align: middle;\n",
       "    }\n",
       "\n",
       "    .dataframe tbody tr th {\n",
       "        vertical-align: top;\n",
       "    }\n",
       "\n",
       "    .dataframe thead th {\n",
       "        text-align: right;\n",
       "    }\n",
       "</style>\n",
       "<table border=\"1\" class=\"dataframe\">\n",
       "  <thead>\n",
       "    <tr style=\"text-align: right;\">\n",
       "      <th></th>\n",
       "      <th>cord_uid</th>\n",
       "      <th>sha</th>\n",
       "      <th>source_x</th>\n",
       "      <th>title</th>\n",
       "      <th>doi</th>\n",
       "      <th>pmcid</th>\n",
       "      <th>pubmed_id</th>\n",
       "      <th>license</th>\n",
       "      <th>abstract</th>\n",
       "      <th>publish_time</th>\n",
       "      <th>authors</th>\n",
       "      <th>journal</th>\n",
       "      <th>Microsoft Academic Paper ID</th>\n",
       "      <th>WHO #Covidence</th>\n",
       "      <th>has_pdf_parse</th>\n",
       "      <th>has_pmc_xml_parse</th>\n",
       "      <th>full_text_file</th>\n",
       "      <th>url</th>\n",
       "      <th>pdf_json_paths</th>\n",
       "      <th>pmc_json_paths</th>\n",
       "    </tr>\n",
       "  </thead>\n",
       "  <tbody>\n",
       "    <tr>\n",
       "      <th>0</th>\n",
       "      <td>8q5ondtn</td>\n",
       "      <td>NaN</td>\n",
       "      <td>Elsevier</td>\n",
       "      <td>Intrauterine virus infections and congenital h...</td>\n",
       "      <td>10.1016/0002-8703(72)90077-4</td>\n",
       "      <td>NaN</td>\n",
       "      <td>4361535.0</td>\n",
       "      <td>els-covid</td>\n",
       "      <td>Abstract The etiologic basis for the vast majo...</td>\n",
       "      <td>1972-12-31</td>\n",
       "      <td>Overall, James C.</td>\n",
       "      <td>American Heart Journal</td>\n",
       "      <td>NaN</td>\n",
       "      <td>NaN</td>\n",
       "      <td>False</td>\n",
       "      <td>False</td>\n",
       "      <td>custom_license</td>\n",
       "      <td>https://doi.org/10.1016/0002-8703(72)90077-4</td>\n",
       "      <td>[]</td>\n",
       "      <td>[]</td>\n",
       "    </tr>\n",
       "    <tr>\n",
       "      <th>1</th>\n",
       "      <td>pzfd0e50</td>\n",
       "      <td>NaN</td>\n",
       "      <td>Elsevier</td>\n",
       "      <td>Coronaviruses in Balkan nephritis</td>\n",
       "      <td>10.1016/0002-8703(80)90355-5</td>\n",
       "      <td>NaN</td>\n",
       "      <td>6243850.0</td>\n",
       "      <td>els-covid</td>\n",
       "      <td>NaN</td>\n",
       "      <td>1980-03-31</td>\n",
       "      <td>Georgescu, Leonida; Diosi, Peter; Buţiu, Ioan;...</td>\n",
       "      <td>American Heart Journal</td>\n",
       "      <td>NaN</td>\n",
       "      <td>NaN</td>\n",
       "      <td>False</td>\n",
       "      <td>False</td>\n",
       "      <td>custom_license</td>\n",
       "      <td>https://doi.org/10.1016/0002-8703(80)90355-5</td>\n",
       "      <td>[]</td>\n",
       "      <td>[]</td>\n",
       "    </tr>\n",
       "    <tr>\n",
       "      <th>2</th>\n",
       "      <td>22bka3gi</td>\n",
       "      <td>NaN</td>\n",
       "      <td>Elsevier</td>\n",
       "      <td>Cigarette smoking and coronary heart disease: ...</td>\n",
       "      <td>10.1016/0002-8703(80)90356-7</td>\n",
       "      <td>NaN</td>\n",
       "      <td>7355701.0</td>\n",
       "      <td>els-covid</td>\n",
       "      <td>NaN</td>\n",
       "      <td>1980-03-31</td>\n",
       "      <td>Friedman, Gary D</td>\n",
       "      <td>American Heart Journal</td>\n",
       "      <td>NaN</td>\n",
       "      <td>NaN</td>\n",
       "      <td>False</td>\n",
       "      <td>False</td>\n",
       "      <td>custom_license</td>\n",
       "      <td>https://doi.org/10.1016/0002-8703(80)90356-7</td>\n",
       "      <td>[]</td>\n",
       "      <td>[]</td>\n",
       "    </tr>\n",
       "    <tr>\n",
       "      <th>3</th>\n",
       "      <td>zp9k1k3z</td>\n",
       "      <td>aecbc613ebdab36753235197ffb4f35734b5ca63</td>\n",
       "      <td>Elsevier</td>\n",
       "      <td>Clinical and immunologic studies in identical ...</td>\n",
       "      <td>10.1016/0002-9343(73)90176-9</td>\n",
       "      <td>NaN</td>\n",
       "      <td>4579077.0</td>\n",
       "      <td>els-covid</td>\n",
       "      <td>Abstract Middle-aged female identical twins, o...</td>\n",
       "      <td>1973-08-31</td>\n",
       "      <td>Brunner, Carolyn M.; Horwitz, David A.; Shann,...</td>\n",
       "      <td>The American Journal of Medicine</td>\n",
       "      <td>NaN</td>\n",
       "      <td>NaN</td>\n",
       "      <td>True</td>\n",
       "      <td>False</td>\n",
       "      <td>custom_license</td>\n",
       "      <td>https://doi.org/10.1016/0002-9343(73)90176-9</td>\n",
       "      <td>[data/custom_license/custom_license/pdf_json/a...</td>\n",
       "      <td>[]</td>\n",
       "    </tr>\n",
       "    <tr>\n",
       "      <th>4</th>\n",
       "      <td>cjuzul89</td>\n",
       "      <td>NaN</td>\n",
       "      <td>Elsevier</td>\n",
       "      <td>Epidemiology of community-acquired respiratory...</td>\n",
       "      <td>10.1016/0002-9343(85)90361-4</td>\n",
       "      <td>NaN</td>\n",
       "      <td>4014285.0</td>\n",
       "      <td>els-covid</td>\n",
       "      <td>Abstract Upper respiratory tract infections ar...</td>\n",
       "      <td>1985-06-28</td>\n",
       "      <td>Garibaldi, Richard A.</td>\n",
       "      <td>The American Journal of Medicine</td>\n",
       "      <td>NaN</td>\n",
       "      <td>NaN</td>\n",
       "      <td>False</td>\n",
       "      <td>False</td>\n",
       "      <td>custom_license</td>\n",
       "      <td>https://doi.org/10.1016/0002-9343(85)90361-4</td>\n",
       "      <td>[]</td>\n",
       "      <td>[]</td>\n",
       "    </tr>\n",
       "  </tbody>\n",
       "</table>\n",
       "</div>"
      ],
      "text/plain": [
       "   cord_uid                                       sha  source_x  \\\n",
       "0  8q5ondtn                                       NaN  Elsevier   \n",
       "1  pzfd0e50                                       NaN  Elsevier   \n",
       "2  22bka3gi                                       NaN  Elsevier   \n",
       "3  zp9k1k3z  aecbc613ebdab36753235197ffb4f35734b5ca63  Elsevier   \n",
       "4  cjuzul89                                       NaN  Elsevier   \n",
       "\n",
       "                                               title  \\\n",
       "0  Intrauterine virus infections and congenital h...   \n",
       "1                  Coronaviruses in Balkan nephritis   \n",
       "2  Cigarette smoking and coronary heart disease: ...   \n",
       "3  Clinical and immunologic studies in identical ...   \n",
       "4  Epidemiology of community-acquired respiratory...   \n",
       "\n",
       "                            doi pmcid  pubmed_id    license  \\\n",
       "0  10.1016/0002-8703(72)90077-4   NaN  4361535.0  els-covid   \n",
       "1  10.1016/0002-8703(80)90355-5   NaN  6243850.0  els-covid   \n",
       "2  10.1016/0002-8703(80)90356-7   NaN  7355701.0  els-covid   \n",
       "3  10.1016/0002-9343(73)90176-9   NaN  4579077.0  els-covid   \n",
       "4  10.1016/0002-9343(85)90361-4   NaN  4014285.0  els-covid   \n",
       "\n",
       "                                            abstract publish_time  \\\n",
       "0  Abstract The etiologic basis for the vast majo...   1972-12-31   \n",
       "1                                                NaN   1980-03-31   \n",
       "2                                                NaN   1980-03-31   \n",
       "3  Abstract Middle-aged female identical twins, o...   1973-08-31   \n",
       "4  Abstract Upper respiratory tract infections ar...   1985-06-28   \n",
       "\n",
       "                                             authors  \\\n",
       "0                                  Overall, James C.   \n",
       "1  Georgescu, Leonida; Diosi, Peter; Buţiu, Ioan;...   \n",
       "2                                   Friedman, Gary D   \n",
       "3  Brunner, Carolyn M.; Horwitz, David A.; Shann,...   \n",
       "4                              Garibaldi, Richard A.   \n",
       "\n",
       "                            journal  Microsoft Academic Paper ID  \\\n",
       "0            American Heart Journal                          NaN   \n",
       "1            American Heart Journal                          NaN   \n",
       "2            American Heart Journal                          NaN   \n",
       "3  The American Journal of Medicine                          NaN   \n",
       "4  The American Journal of Medicine                          NaN   \n",
       "\n",
       "  WHO #Covidence  has_pdf_parse  has_pmc_xml_parse  full_text_file  \\\n",
       "0            NaN          False              False  custom_license   \n",
       "1            NaN          False              False  custom_license   \n",
       "2            NaN          False              False  custom_license   \n",
       "3            NaN           True              False  custom_license   \n",
       "4            NaN          False              False  custom_license   \n",
       "\n",
       "                                            url  \\\n",
       "0  https://doi.org/10.1016/0002-8703(72)90077-4   \n",
       "1  https://doi.org/10.1016/0002-8703(80)90355-5   \n",
       "2  https://doi.org/10.1016/0002-8703(80)90356-7   \n",
       "3  https://doi.org/10.1016/0002-9343(73)90176-9   \n",
       "4  https://doi.org/10.1016/0002-9343(85)90361-4   \n",
       "\n",
       "                                      pdf_json_paths pmc_json_paths  \n",
       "0                                                 []             []  \n",
       "1                                                 []             []  \n",
       "2                                                 []             []  \n",
       "3  [data/custom_license/custom_license/pdf_json/a...             []  \n",
       "4                                                 []             []  "
      ]
     },
     "execution_count": 81,
     "metadata": {},
     "output_type": "execute_result"
    }
   ],
   "source": [
    "metadata.head()"
   ]
  },
  {
   "cell_type": "code",
   "execution_count": 82,
   "metadata": {
    "ExecuteTime": {
     "end_time": "2020-04-06T05:19:17.548000Z",
     "start_time": "2020-04-06T05:19:17.531490Z"
    }
   },
   "outputs": [
    {
     "data": {
      "text/plain": [
       "[PosixPath('data/comm_use_subset/comm_use_subset/pdf_json/d94115064a8168415d634f654869a4009e4c3c70.json'),\n",
       " PosixPath('data/comm_use_subset/comm_use_subset/pdf_json/3d2962558f0a2ed4ddc00989168efe60856bd792.json'),\n",
       " PosixPath('data/comm_use_subset/comm_use_subset/pdf_json/eed4a68d4e44f9887b3219ad5813eed5f0c4d42b.json')]"
      ]
     },
     "execution_count": 82,
     "metadata": {},
     "output_type": "execute_result"
    }
   ],
   "source": [
    "metadata.loc[16763, 'pdf_json_paths']"
   ]
  },
  {
   "cell_type": "code",
   "execution_count": 28,
   "metadata": {
    "ExecuteTime": {
     "end_time": "2020-04-06T04:50:48.214441Z",
     "start_time": "2020-04-06T04:50:48.196582Z"
    }
   },
   "outputs": [],
   "source": [
    "def load_json_file(file):\n",
    "    with Path(file).open('r') as file:\n",
    "        res = json.load(file)\n",
    "    return res"
   ]
  },
  {
   "cell_type": "code",
   "execution_count": 83,
   "metadata": {
    "ExecuteTime": {
     "end_time": "2020-04-06T05:20:18.788491Z",
     "start_time": "2020-04-06T05:20:18.767247Z"
    }
   },
   "outputs": [],
   "source": [
    "def get_full_text(json_file_list):\n",
    "    if len(json_file_list) < 1:\n",
    "        return ''\n",
    "    body_text_list = []\n",
    "    for file in json_file_list:\n",
    "        json_dict = load_json_file(file)\n",
    "        body_text_list.append(' '.join([paragraph['text'] for paragraph in glom(json_dict, 'body_text')]))\n",
    "    return ' '.join(body_text_list)"
   ]
  },
  {
   "cell_type": "code",
   "execution_count": 85,
   "metadata": {
    "ExecuteTime": {
     "end_time": "2020-04-06T05:20:34.290001Z",
     "start_time": "2020-04-06T05:20:26.595848Z"
    }
   },
   "outputs": [],
   "source": [
    "full_text_all = mprun(get_full_text, metadata['pdf_json_paths'].values)"
   ]
  },
  {
   "cell_type": "code",
   "execution_count": 93,
   "metadata": {
    "ExecuteTime": {
     "end_time": "2020-04-06T05:38:08.016486Z",
     "start_time": "2020-04-06T05:38:07.989108Z"
    },
    "scrolled": true
   },
   "outputs": [
    {
     "data": {
      "text/plain": [
       "{'BIBREF0': {'ref_id': 'b0',\n",
       "  'title': 'Hereditary hypergammaglobulinemia and systemic lupus erythematosus. I. Clinical and electrophoretic studies',\n",
       "  'authors': [{'first': '', 'middle': [], 'last': 'Larsson 0', 'suffix': ''},\n",
       "   {'first': 'T', 'middle': ['D'], 'last': 'Leonhardt', 'suffix': ''}],\n",
       "  'year': 1959,\n",
       "  'venue': 'Acta Med Stand',\n",
       "  'volume': '165',\n",
       "  'issn': '',\n",
       "  'pages': '',\n",
       "  'other_ids': {}},\n",
       " 'BIBREF3': {'ref_id': 'b3',\n",
       "  'title': 'Familial systemic lupus erythematosus',\n",
       "  'authors': [{'first': 'F', 'middle': ['A'], 'last': 'Salazar', 'suffix': ''},\n",
       "   {'first': 'D', 'middle': ['N'], 'last': 'Robbins', 'suffix': ''},\n",
       "   {'first': 'R', 'middle': [], 'last': 'Scalettar', 'suffix': ''}],\n",
       "  'year': None,\n",
       "  'venue': '',\n",
       "  'volume': '',\n",
       "  'issn': '',\n",
       "  'pages': '',\n",
       "  'other_ids': {}},\n",
       " 'BIBREF5': {'ref_id': 'b5',\n",
       "  'title': 'Disseminated lupus erythematosus in identical twin sisters associated with diabetes mellitus in one case',\n",
       "  'authors': [{'first': 'M', 'middle': ['W'], 'last': 'Davis', 'suffix': ''},\n",
       "   {'first': 'G', 'middle': ['H'], 'last': 'Gutridge', 'suffix': ''}],\n",
       "  'year': 1951,\n",
       "  'venue': 'J Mississippi Med Ass',\n",
       "  'volume': '46',\n",
       "  'issn': '',\n",
       "  'pages': '',\n",
       "  'other_ids': {}},\n",
       " 'BIBREF6': {'ref_id': 'b6',\n",
       "  'title': 'Disseminated lupus erythematosus in identical twins',\n",
       "  'authors': [{'first': 'C',\n",
       "    'middle': ['O'],\n",
       "    'last': 'Wagenhals',\n",
       "    'suffix': ''},\n",
       "   {'first': 'P', 'middle': ['A'], 'last': 'Burgeson', 'suffix': ''},\n",
       "   {'first': 'H', 'middle': ['B'], 'last': 'Blumenfeld', 'suffix': ''},\n",
       "   {'first': 'S', 'middle': ['B'], 'last': 'Kaplan', 'suffix': ''},\n",
       "   {'first': 'D', 'middle': ['D'], 'last': 'Mills', 'suffix': ''}],\n",
       "  'year': 1958,\n",
       "  'venue': 'Zarafonetis CJD: Fatal systemic lupus erythematosus in identical twins: case reports and review of the literature',\n",
       "  'volume': '56',\n",
       "  'issn': '',\n",
       "  'pages': '',\n",
       "  'other_ids': {}},\n",
       " 'BIBREF8': {'ref_id': 'b8',\n",
       "  'title': 'Identical three-year-old twins with disseminated lupus erythematosus: one with nephrosis and one tiith nephritis',\n",
       "  'authors': [{'first': 'E', 'middle': [], 'last': 'Lieberman', 'suffix': ''},\n",
       "   {'first': 'E', 'middle': [], 'last': 'Heuser', 'suffix': ''},\n",
       "   {'first': 'V', 'middle': [], 'last': 'Hanson', 'suffix': ''},\n",
       "   {'first': 'H', 'middle': [], 'last': 'Kornreich', 'suffix': ''},\n",
       "   {'first': 'G', 'middle': [], 'last': 'Donnell', 'suffix': ''},\n",
       "   {'first': 'B', 'middle': ['H'], 'last': 'Landing', 'suffix': ''}],\n",
       "  'year': 1968,\n",
       "  'venue': 'Arthritis Rheum',\n",
       "  'volume': '11',\n",
       "  'issn': '',\n",
       "  'pages': '',\n",
       "  'other_ids': {}},\n",
       " 'BIBREF9': {'ref_id': 'b9',\n",
       "  'title': 'Progressive systemic sclerosis (PSS) and localized scleroderma (morphea) with positive LE cell test and unusual systemic. manifestations compatible with systemic IUDUS ervthematosus (SLE)',\n",
       "  'authors': [{'first': 'E', 'middle': ['L'], 'last': 'Dubois', 'suffix': ''},\n",
       "   {'first': 'S', 'middle': [], 'last': 'Chandor', 'suffix': ''},\n",
       "   {'first': 'G', 'middle': ['J'], 'last': 'Friou', 'suffix': ''},\n",
       "   {'first': 'M ;', 'middle': [], 'last': 'Bischel', 'suffix': ''},\n",
       "   {'first': 'T', 'middle': [], 'last': 'Pincus', 'suffix': ''},\n",
       "   {'first': 'P', 'middle': ['H'], 'last': 'Schur', 'suffix': ''},\n",
       "   {'first': 'J', 'middle': ['A'], 'last': 'Rose', 'suffix': ''},\n",
       "   {'first': 'J', 'middle': ['L'], 'last': 'Decker', 'suffix': ''},\n",
       "   {'first': 'N', 'middle': [], 'last': 'Talal', 'suffix': ''}],\n",
       "  'year': 1967,\n",
       "  'venue': 'Mayer MM: Complement and complement fixation',\n",
       "  'volume': '119',\n",
       "  'issn': '',\n",
       "  'pages': '',\n",
       "  'other_ids': {}},\n",
       " 'BIBREF12': {'ref_id': 'b12',\n",
       "  'title': 'Complement and its role in disease',\n",
       "  'authors': [{'first': 'J', 'middle': ['S'], 'last': 'Davis', 'suffix': ''},\n",
       "   {'first': '', 'middle': [], 'last': 'Iv', 'suffix': ''}],\n",
       "  'year': None,\n",
       "  'venue': 'Vistas in Connective Tissue Diseases (Bennett JC',\n",
       "  'volume': '',\n",
       "  'issn': '',\n",
       "  'pages': '',\n",
       "  'other_ids': {}}}"
      ]
     },
     "execution_count": 93,
     "metadata": {},
     "output_type": "execute_result"
    }
   ],
   "source": [
    "x['bib_entries']"
   ]
  },
  {
   "cell_type": "code",
   "execution_count": 104,
   "metadata": {
    "ExecuteTime": {
     "end_time": "2020-04-06T06:05:16.789639Z",
     "start_time": "2020-04-06T06:05:16.759811Z"
    }
   },
   "outputs": [],
   "source": [
    "def preprocessing(s):\n",
    "    s = pp.strip_tags(s)\n",
    "    s = pp.split_alphanum(s)\n",
    "    s = pp.remove_stopwords(s)\n",
    "    s = pp.strip_multiple_whitespaces(s)\n",
    "    s = pp.stem_text(s)\n",
    "    s = pp.strip_non_alphanum(s)\n",
    "    s = pp.strip_numeric(s)\n",
    "    s = pp.strip_punctuation(s)\n",
    "    s = pp.strip_short(s, minsize=5)\n",
    "    return s.split(' ')"
   ]
  },
  {
   "cell_type": "code",
   "execution_count": 105,
   "metadata": {
    "ExecuteTime": {
     "end_time": "2020-04-06T06:07:52.853967Z",
     "start_time": "2020-04-06T06:05:20.756346Z"
    }
   },
   "outputs": [],
   "source": [
    "full_text_processed = mprun(preprocessing, full_text_all)"
   ]
  },
  {
   "cell_type": "code",
   "execution_count": 118,
   "metadata": {
    "ExecuteTime": {
     "end_time": "2020-04-06T20:23:21.576097Z",
     "start_time": "2020-04-06T20:19:50.337094Z"
    }
   },
   "outputs": [],
   "source": [
    "phrases = Phrases(full_text_processed)\n",
    "bigrams = Phraser(phrases)"
   ]
  },
  {
   "cell_type": "raw",
   "metadata": {
    "ExecuteTime": {
     "end_time": "2020-04-06T20:19:46.678673Z",
     "start_time": "2020-04-06T20:19:46.650374Z"
    }
   },
   "source": [
    "for doc in full_text_processed:\n",
    "    if bigrams[doc].__len__() > 0:\n",
    "        print(bigrams[doc])\n",
    "    break"
   ]
  },
  {
   "cell_type": "raw",
   "metadata": {
    "ExecuteTime": {
     "end_time": "2020-04-06T20:19:19.074541Z",
     "start_time": "2020-04-06T20:18:33.230241Z"
    }
   },
   "source": [
    "_corpus = [[w for w in bigrams[doc]] for doc in full_text_processed]"
   ]
  },
  {
   "cell_type": "code",
   "execution_count": 106,
   "metadata": {
    "ExecuteTime": {
     "end_time": "2020-04-06T06:09:25.340621Z",
     "start_time": "2020-04-06T06:07:52.855518Z"
    }
   },
   "outputs": [],
   "source": [
    "dictionary = corpora.Dictionary(full_text_processed)\n",
    "corpus = mprun(dictionary.doc2bow, full_text_processed)"
   ]
  },
  {
   "cell_type": "code",
   "execution_count": 107,
   "metadata": {
    "ExecuteTime": {
     "end_time": "2020-04-06T06:14:42.529816Z",
     "start_time": "2020-04-06T06:09:25.342493Z"
    }
   },
   "outputs": [],
   "source": [
    "lda = models.ldamodel.LdaModel(corpus=corpus, id2word=dictionary, num_topics=100)"
   ]
  },
  {
   "cell_type": "code",
   "execution_count": 108,
   "metadata": {
    "ExecuteTime": {
     "end_time": "2020-04-06T06:14:42.748669Z",
     "start_time": "2020-04-06T06:14:42.531360Z"
    }
   },
   "outputs": [
    {
     "data": {
      "text/plain": [
       "[(50,\n",
       "  '0.041*\"membran\" + 0.031*\"protein\" + 0.020*\"lipid\" + 0.015*\"fusion\" + 0.008*\"membrane\" + 0.007*\"vesicl\" + 0.007*\"endosom\" + 0.007*\"format\" + 0.007*\"golgi\" + 0.006*\"requir\"'),\n",
       " (84,\n",
       "  '0.038*\"bacteri\" + 0.032*\"bacteria\" + 0.030*\"pathogen\" + 0.022*\"resist\" + 0.012*\"microbi\" + 0.011*\"antimicrobi\" + 0.009*\"strain\" + 0.009*\"antibiot\" + 0.008*\"cultur\" + 0.008*\"studi\"'),\n",
       " (67,\n",
       "  '0.020*\"schiller\" + 0.020*\"nakai\" + 0.016*\"yamamoto\" + 0.013*\"robinson\" + 0.011*\"bradi\" + 0.007*\"carlson\" + 0.006*\"willett\" + 0.005*\"torten\" + 0.004*\"ishida\" + 0.004*\"egberink\"'),\n",
       " (77,\n",
       "  '0.025*\"primer\" + 0.022*\"detect\" + 0.020*\"assai\" + 0.019*\"probe\" + 0.016*\"reaction\" + 0.014*\"target\" + 0.011*\"fluoresc\" + 0.010*\"perform\" + 0.009*\"amplif\" + 0.009*\"sampl\"'),\n",
       " (29,\n",
       "  '0.026*\"immun\" + 0.023*\"respons\" + 0.014*\"specif\" + 0.013*\"cytokin\" + 0.013*\"express\" + 0.013*\"cells\" + 0.010*\"antigen\" + 0.009*\"studi\" + 0.008*\"associ\" + 0.008*\"level\"'),\n",
       " (45,\n",
       "  '0.029*\"licens\" + 0.023*\"vaccin\" + 0.020*\"ebola\" + 0.020*\"diseas\" + 0.018*\"develop\" + 0.016*\"outbreak\" + 0.014*\"human\" + 0.009*\"emerg\" + 0.008*\"avail\" + 0.008*\"infecti\"'),\n",
       " (39,\n",
       "  '0.020*\"incub\" + 0.014*\"cultur\" + 0.012*\"cells\" + 0.011*\"control\" + 0.011*\"plate\" + 0.010*\"concentr\" + 0.010*\"medium\" + 0.010*\"treat\" + 0.010*\"determin\" + 0.009*\"buffer\"'),\n",
       " (54,\n",
       "  '0.022*\"vascul\" + 0.019*\"folat\" + 0.018*\"kawasaki\" + 0.016*\"diseas\" + 0.014*\"coronari\" + 0.014*\"arteri\" + 0.012*\"keratinocyt\" + 0.010*\"vasculitis\" + 0.010*\"cutan\" + 0.010*\"giant\"'),\n",
       " (68,\n",
       "  '0.045*\"receptor\" + 0.043*\"angiotensin\" + 0.034*\"kidnei\" + 0.027*\"renal\" + 0.021*\"express\" + 0.015*\"hypertens\" + 0.014*\"increas\" + 0.013*\"convert\" + 0.013*\"heart\" + 0.012*\"renin\"'),\n",
       " (98,\n",
       "  '0.011*\"pondr\" + 0.008*\"poifn\" + 0.008*\"thermophilu\" + 0.005*\"narita\" + 0.004*\"tsuda\" + 0.002*\"signaux\" + 0.001*\"kirchner\" + 0.000*\"infect\" + 0.000*\"viral\" + 0.000*\"studi\"'),\n",
       " (52,\n",
       "  '0.113*\"particl\" + 0.055*\"virion\" + 0.036*\"capsid\" + 0.024*\"viral\" + 0.023*\"envelop\" + 0.021*\"virus\" + 0.017*\"particles\" + 0.014*\"electron\" + 0.012*\"reoviru\" + 0.012*\"infect\"'),\n",
       " (23,\n",
       "  '0.027*\"durant\" + 0.012*\"grand\" + 0.011*\"maladi\" + 0.011*\"infect\" + 0.011*\"produit\" + 0.011*\"persona\" + 0.009*\"certain\" + 0.008*\"viral\" + 0.008*\"contr\" + 0.008*\"agent\"'),\n",
       " (51,\n",
       "  '0.017*\"concentr\" + 0.012*\"solut\" + 0.008*\"water\" + 0.006*\"result\" + 0.006*\"increas\" + 0.006*\"differ\" + 0.006*\"column\" + 0.005*\"surfac\" + 0.005*\"temperatur\" + 0.005*\"spectra\"'),\n",
       " (47,\n",
       "  '0.047*\"strain\" + 0.037*\"sequenc\" + 0.018*\"coronaviru\" + 0.015*\"coronavirus\" + 0.014*\"spike\" + 0.013*\"protein\" + 0.012*\"genom\" + 0.010*\"region\" + 0.010*\"amino\" + 0.009*\"nucleotid\"'),\n",
       " (86,\n",
       "  '0.037*\"sodium\" + 0.035*\"transport\" + 0.033*\"glucos\" + 0.021*\"fluid\" + 0.021*\"concentr\" + 0.019*\"absorpt\" + 0.018*\"potassium\" + 0.017*\"channel\" + 0.016*\"lactat\" + 0.015*\"water\"'),\n",
       " (57,\n",
       "  '0.045*\"patient\" + 0.019*\"blood\" + 0.012*\"heart\" + 0.010*\"cardiac\" + 0.009*\"treatment\" + 0.008*\"increas\" + 0.008*\"clinic\" + 0.008*\"receiv\" + 0.007*\"mortal\" + 0.007*\"platelet\"'),\n",
       " (46,\n",
       "  '0.019*\"infect\" + 0.011*\"diseas\" + 0.009*\"clinic\" + 0.008*\"includ\" + 0.008*\"associ\" + 0.008*\"treatment\" + 0.008*\"present\" + 0.007*\"diagnosi\" + 0.007*\"occur\" + 0.006*\"common\"'),\n",
       " (78,\n",
       "  '0.095*\"compound\" + 0.024*\"activ\" + 0.017*\"group\" + 0.013*\"deriv\" + 0.011*\"reaction\" + 0.011*\"methyl\" + 0.010*\"analogu\" + 0.010*\"compounds\" + 0.010*\"yield\" + 0.007*\"synthesi\"'),\n",
       " (71,\n",
       "  '0.048*\"hamster\" + 0.035*\"rodent\" + 0.026*\"marmoset\" + 0.019*\"organoid\" + 0.018*\"diseas\" + 0.016*\"coloni\" + 0.012*\"guinea\" + 0.010*\"infect\" + 0.010*\"speci\" + 0.010*\"hamsters\"'),\n",
       " (35,\n",
       "  '0.029*\"optimis\" + 0.028*\"risqu\" + 0.012*\"nombreux\" + 0.010*\"infectieux\" + 0.009*\"actuel\" + 0.008*\"chaqu\" + 0.008*\"reiniti\" + 0.007*\"exemple\" + 0.007*\"oeuvr\" + 0.007*\"codon\"'),\n",
       " (66,\n",
       "  '0.044*\"pulmonari\" + 0.041*\"alveolar\" + 0.021*\"epitheli\" + 0.019*\"injuri\" + 0.016*\"inflammatori\" + 0.015*\"tissu\" + 0.014*\"patholog\" + 0.012*\"lungs\" + 0.012*\"airwai\" + 0.012*\"sever\"'),\n",
       " (10,\n",
       "  '0.137*\"infect\" + 0.028*\"viral\" + 0.027*\"infection\" + 0.012*\"figur\" + 0.011*\"replic\" + 0.011*\"increas\" + 0.010*\"level\" + 0.010*\"virus\" + 0.010*\"cells\" + 0.009*\"observ\"'),\n",
       " (81,\n",
       "  '0.063*\"camel\" + 0.029*\"saudi\" + 0.027*\"plasma\" + 0.026*\"blood\" + 0.024*\"arabia\" + 0.018*\"human\" + 0.016*\"middl\" + 0.014*\"report\" + 0.013*\"screen\" + 0.013*\"transmiss\"'),\n",
       " (73,\n",
       "  '0.017*\"express\" + 0.016*\"myelin\" + 0.014*\"brain\" + 0.013*\"microglia\" + 0.012*\"activ\" + 0.011*\"model\" + 0.009*\"diseas\" + 0.008*\"demyelin\" + 0.007*\"astrocyt\" + 0.007*\"induc\"'),\n",
       " (32,\n",
       "  '0.037*\"antibiot\" + 0.020*\"travel\" + 0.015*\"treatment\" + 0.011*\"resist\" + 0.010*\"antimicrobi\" + 0.009*\"recommend\" + 0.007*\"diseas\" + 0.007*\"hospitalis\" + 0.007*\"children\" + 0.006*\"includ\"'),\n",
       " (24,\n",
       "  '0.032*\"sampl\" + 0.031*\"infect\" + 0.025*\"detect\" + 0.025*\"posit\" + 0.020*\"antibodi\" + 0.019*\"serum\" + 0.015*\"inocul\" + 0.013*\"elisa\" + 0.011*\"tissu\" + 0.011*\"antigen\"'),\n",
       " (13,\n",
       "  '0.014*\"model\" + 0.014*\"network\" + 0.012*\"method\" + 0.010*\"paramet\" + 0.009*\"copyright\" + 0.008*\"function\" + 0.008*\"measur\" + 0.007*\"differ\" + 0.007*\"process\" + 0.006*\"result\"'),\n",
       " (38,\n",
       "  '0.022*\"infect\" + 0.016*\"dengu\" + 0.014*\"diseas\" + 0.012*\"report\" + 0.012*\"mosquito\" + 0.011*\"countri\" + 0.011*\"fever\" + 0.010*\"africa\" + 0.009*\"region\" + 0.009*\"south\"'),\n",
       " (80,\n",
       "  '0.051*\"activ\" + 0.032*\"inhibitor\" + 0.030*\"proteas\" + 0.022*\"enzym\" + 0.022*\"substrat\" + 0.016*\"inhibit\" + 0.015*\"ubiquitin\" + 0.015*\"cleavag\" + 0.013*\"catalyt\" + 0.011*\"cathepsin\"'),\n",
       " (20,\n",
       "  '0.045*\"asthma\" + 0.015*\"airwai\" + 0.015*\"increas\" + 0.014*\"inflammatori\" + 0.013*\"associ\" + 0.012*\"respons\" + 0.011*\"immun\" + 0.010*\"inflamm\" + 0.009*\"develop\" + 0.009*\"bacteri\"'),\n",
       " (62,\n",
       "  '0.045*\"macrophag\" + 0.034*\"neutrophil\" + 0.026*\"express\" + 0.025*\"monocyt\" + 0.021*\"endotheli\" + 0.012*\"monocytes\" + 0.012*\"adhes\" + 0.012*\"marrow\" + 0.011*\"human\" + 0.011*\"integrin\"'),\n",
       " (56,\n",
       "  '0.052*\"translat\" + 0.038*\"codon\" + 0.030*\"ribosom\" + 0.023*\"frameshift\" + 0.016*\"structur\" + 0.015*\"sequenc\" + 0.014*\"nucleotid\" + 0.013*\"pseudoknot\" + 0.012*\"element\" + 0.012*\"frame\"'),\n",
       " (3,\n",
       "  '0.036*\"patient\" + 0.021*\"exacerb\" + 0.018*\"ventil\" + 0.015*\"sputum\" + 0.014*\"pulmonari\" + 0.013*\"uenza\" + 0.012*\"respiratori\" + 0.011*\"cough\" + 0.010*\"inhal\" + 0.009*\"pneumonia\"'),\n",
       " (43,\n",
       "  '0.030*\"activ\" + 0.019*\"induc\" + 0.013*\"inhibit\" + 0.012*\"effect\" + 0.011*\"protein\" + 0.011*\"regul\" + 0.010*\"increas\" + 0.009*\"apoptosi\" + 0.008*\"mitochondri\" + 0.008*\"signal\"'),\n",
       " (31,\n",
       "  '0.125*\"acetyl\" + 0.116*\"sialic\" + 0.037*\"mucin\" + 0.030*\"esteras\" + 0.028*\"erythrocyt\" + 0.017*\"sialidas\" + 0.017*\"sinensi\" + 0.013*\"neuraminidas\" + 0.010*\"salmon\" + 0.010*\"gangliosid\"'),\n",
       " (55,\n",
       "  '0.064*\"joint\" + 0.039*\"effus\" + 0.033*\"fluid\" + 0.033*\"pleural\" + 0.027*\"arthriti\" + 0.018*\"cartilag\" + 0.015*\"pericardi\" + 0.014*\"synovi\" + 0.012*\"osteoclast\" + 0.011*\"arthritis\"'),\n",
       " (92,\n",
       "  '0.012*\"patient\" + 0.011*\"treatment\" + 0.011*\"clinic\" + 0.011*\"chest\" + 0.011*\"normal\" + 0.010*\"present\" + 0.009*\"abnorm\" + 0.008*\"diseas\" + 0.008*\"diagnosi\" + 0.008*\"lesion\"'),\n",
       " (64,\n",
       "  '0.021*\"target\" + 0.013*\"develop\" + 0.013*\"deliveri\" + 0.009*\"nanoparticl\" + 0.008*\"approach\" + 0.008*\"system\" + 0.007*\"molecul\" + 0.007*\"therapeut\" + 0.007*\"specif\" + 0.007*\"applic\"'),\n",
       " (91,\n",
       "  '0.037*\"larva\" + 0.037*\"shrimp\" + 0.027*\"hemolymph\" + 0.024*\"foreground\" + 0.022*\"aquacultur\" + 0.019*\"aquat\" + 0.016*\"freshwat\" + 0.010*\"larval\" + 0.008*\"cohabit\" + 0.007*\"larvae\"'),\n",
       " (65,\n",
       "  '0.068*\"gland\" + 0.037*\"bladder\" + 0.035*\"olfactori\" + 0.035*\"cheetah\" + 0.033*\"hyena\" + 0.030*\"mammari\" + 0.028*\"collagen\" + 0.024*\"salivari\" + 0.022*\"mucosa\" + 0.016*\"captiv\"'),\n",
       " (58,\n",
       "  '0.130*\"intestin\" + 0.034*\"piglet\" + 0.033*\"colon\" + 0.019*\"small\" + 0.016*\"mucos\" + 0.014*\"ileum\" + 0.014*\"diarrhea\" + 0.012*\"gastrointestin\" + 0.012*\"intestine\" + 0.011*\"epitheli\"'),\n",
       " (1,\n",
       "  '0.024*\"aerosol\" + 0.018*\"droplet\" + 0.017*\"filter\" + 0.016*\"contamin\" + 0.012*\"water\" + 0.012*\"surfac\" + 0.011*\"clean\" + 0.011*\"airborn\" + 0.009*\"holder\" + 0.008*\"environment\"'),\n",
       " (28,\n",
       "  '0.041*\"cambio\" + 0.016*\"instituto\" + 0.009*\"sanidad\" + 0.009*\"propon\" + 0.007*\"americana\" + 0.005*\"nacion\" + 0.004*\"acces\" + 0.004*\"grado\" + 0.003*\"resta\" + 0.002*\"sprue\"'),\n",
       " (19,\n",
       "  '0.102*\"figur\" + 0.053*\"epitheli\" + 0.030*\"tissu\" + 0.029*\"express\" + 0.025*\"cells\" + 0.018*\"epithelium\" + 0.018*\"differenti\" + 0.017*\"human\" + 0.015*\"junction\" + 0.015*\"polar\"'),\n",
       " (74,\n",
       "  '0.088*\"antibodi\" + 0.051*\"neutral\" + 0.030*\"titer\" + 0.029*\"immun\" + 0.028*\"protect\" + 0.026*\"serum\" + 0.021*\"challeng\" + 0.016*\"respons\" + 0.014*\"vaccin\" + 0.012*\"group\"'),\n",
       " (25,\n",
       "  '0.090*\"dental\" + 0.051*\"periodont\" + 0.032*\"gingiv\" + 0.026*\"equin\" + 0.019*\"snake\" + 0.019*\"teeth\" + 0.011*\"tooth\" + 0.011*\"tympan\" + 0.010*\"dentist\" + 0.010*\"labyrinth\"'),\n",
       " (14,\n",
       "  '0.054*\"infant\" + 0.043*\"women\" + 0.033*\"neonat\" + 0.031*\"pregnant\" + 0.028*\"matern\" + 0.024*\"birth\" + 0.024*\"pregnanc\" + 0.017*\"mother\" + 0.013*\"fetal\" + 0.013*\"stillbirth\"'),\n",
       " (70,\n",
       "  '0.029*\"health\" + 0.012*\"public\" + 0.009*\"funder\" + 0.009*\"research\" + 0.008*\"author\" + 0.007*\"diseas\" + 0.007*\"inform\" + 0.006*\"intern\" + 0.006*\"copyright\" + 0.006*\"holder\"'),\n",
       " (15,\n",
       "  '0.122*\"cancer\" + 0.092*\"tumor\" + 0.016*\"patient\" + 0.016*\"breast\" + 0.011*\"express\" + 0.011*\"carcinoma\" + 0.011*\"human\" + 0.011*\"prostat\" + 0.010*\"melanoma\" + 0.009*\"malign\"'),\n",
       " (41,\n",
       "  '0.036*\"group\" + 0.033*\"stress\" + 0.020*\"studi\" + 0.018*\"disord\" + 0.017*\"depress\" + 0.017*\"level\" + 0.016*\"individu\" + 0.015*\"psycholog\" + 0.015*\"exercis\" + 0.014*\"function\"')]"
      ]
     },
     "execution_count": 108,
     "metadata": {},
     "output_type": "execute_result"
    }
   ],
   "source": [
    "lda.print_topics(num_topics=50, num_words=10)"
   ]
  },
  {
   "cell_type": "markdown",
   "metadata": {},
   "source": [
    "# Draft"
   ]
  },
  {
   "cell_type": "code",
   "execution_count": 52,
   "metadata": {
    "ExecuteTime": {
     "end_time": "2020-04-06T05:08:50.807489Z",
     "start_time": "2020-04-06T05:08:50.779404Z"
    }
   },
   "outputs": [],
   "source": [
    "class PDFParser():\n",
    "    def __init__(self):\n",
    "        self.title = ''\n",
    "        self.authors = []\n",
    "        self.abstract = ''\n",
    "        self.body = ''\n",
    "        self.bib_titles = []\n",
    "        \n",
    "    def load(self, json_file=None, json_dict=None):\n",
    "        if json_file is not None:\n",
    "            json_dict = load_json_file(json_file)\n",
    "        if json_dict is None:\n",
    "            raise ValueError(f'One of json or json_file must be valid')\n",
    "        \n",
    "        self.title = glom(json_dict, 'metadata.title')\n",
    "        self.authors = glom(json_dict, 'metadata.authors')\n",
    "        self.abstract = ' '.join(\n",
    "            [paragraph['text'] for paragraph in glom(json_dict, 'abstract')])\n",
    "        \n",
    "        self.body = ' '.join(\n",
    "            [paragraph['text'] for paragraph in glom(json_dict, 'body_text')])\n",
    "        self.bib_titles = [bibref['title'] for bibref in glom(json_dict, 'bib_entries').values()]\n",
    "        return self\n",
    "\n",
    "    def __repr__(self):\n",
    "        return self.title\n",
    "    \n",
    "    def __str__(self):\n",
    "        return self.__repr__()"
   ]
  },
  {
   "cell_type": "code",
   "execution_count": 53,
   "metadata": {
    "ExecuteTime": {
     "end_time": "2020-04-06T05:08:51.414879Z",
     "start_time": "2020-04-06T05:08:51.394213Z"
    }
   },
   "outputs": [
    {
     "data": {
      "text/plain": [
       "Clinical and Immunologic Studies in Identical Twins Discordant for Systemic Lupus Erythematosus"
      ]
     },
     "execution_count": 53,
     "metadata": {},
     "output_type": "execute_result"
    }
   ],
   "source": [
    "p = PDFParser()\n",
    "p.load(metadata['pdf_json_path'][3])"
   ]
  }
 ],
 "metadata": {
  "kernelspec": {
   "display_name": "Python 3",
   "language": "python",
   "name": "python3"
  },
  "language_info": {
   "codemirror_mode": {
    "name": "ipython",
    "version": 3
   },
   "file_extension": ".py",
   "mimetype": "text/x-python",
   "name": "python",
   "nbconvert_exporter": "python",
   "pygments_lexer": "ipython3",
   "version": "3.7.6"
  }
 },
 "nbformat": 4,
 "nbformat_minor": 4
}
